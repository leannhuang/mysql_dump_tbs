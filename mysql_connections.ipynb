{
 "cells": [
  {
   "cell_type": "code",
   "execution_count": 9,
   "metadata": {},
   "outputs": [],
   "source": [
    "import pandas as pd\n",
    "import mysql.connector\n",
    "import time"
   ]
  },
  {
   "cell_type": "code",
   "execution_count": 12,
   "metadata": {},
   "outputs": [],
   "source": [
    "# MySQL connection settings\n",
    "mysql_config = {\n",
    "    'host': 'server ip',\n",
    "    'user': 'user',\n",
    "    'password': 'pwd',\n",
    "    'database': 'database'\n",
    "}"
   ]
  },
  {
   "cell_type": "code",
   "execution_count": 13,
   "metadata": {},
   "outputs": [],
   "source": [
    "# Establish MySQL connection\n",
    "conn = mysql.connector.connect(**mysql_config)"
   ]
  },
  {
   "cell_type": "code",
   "execution_count": 14,
   "metadata": {},
   "outputs": [
    {
     "name": "stderr",
     "output_type": "stream",
     "text": [
      "/var/folders/83/xbvjffh54yg4gpd1j3b8jsyc0000gq/T/ipykernel_28004/301970875.py:3: UserWarning: pandas only supports SQLAlchemy connectable (engine/connection) or database string URI or sqlite3 DBAPI2 connection. Other DBAPI2 objects are not tested. Please consider using SQLAlchemy.\n",
      "  tables_df = pd.read_sql_query(query_get_tables, conn)\n"
     ]
    }
   ],
   "source": [
    "# Get list of tables in the database\n",
    "query_get_tables = \"SHOW TABLES\"\n",
    "tables_df = pd.read_sql_query(query_get_tables, conn)"
   ]
  },
  {
   "cell_type": "code",
   "execution_count": 16,
   "metadata": {},
   "outputs": [
    {
     "name": "stderr",
     "output_type": "stream",
     "text": [
      "/var/folders/83/xbvjffh54yg4gpd1j3b8jsyc0000gq/T/ipykernel_28004/3837827248.py:4: UserWarning: pandas only supports SQLAlchemy connectable (engine/connection) or database string URI or sqlite3 DBAPI2 connection. Other DBAPI2 objects are not tested. Please consider using SQLAlchemy.\n",
      "  table_df = pd.read_sql_query(query_select_all, conn)\n",
      "/var/folders/83/xbvjffh54yg4gpd1j3b8jsyc0000gq/T/ipykernel_28004/3837827248.py:4: UserWarning: pandas only supports SQLAlchemy connectable (engine/connection) or database string URI or sqlite3 DBAPI2 connection. Other DBAPI2 objects are not tested. Please consider using SQLAlchemy.\n",
      "  table_df = pd.read_sql_query(query_select_all, conn)\n",
      "/var/folders/83/xbvjffh54yg4gpd1j3b8jsyc0000gq/T/ipykernel_28004/3837827248.py:4: UserWarning: pandas only supports SQLAlchemy connectable (engine/connection) or database string URI or sqlite3 DBAPI2 connection. Other DBAPI2 objects are not tested. Please consider using SQLAlchemy.\n",
      "  table_df = pd.read_sql_query(query_select_all, conn)\n",
      "/var/folders/83/xbvjffh54yg4gpd1j3b8jsyc0000gq/T/ipykernel_28004/3837827248.py:4: UserWarning: pandas only supports SQLAlchemy connectable (engine/connection) or database string URI or sqlite3 DBAPI2 connection. Other DBAPI2 objects are not tested. Please consider using SQLAlchemy.\n",
      "  table_df = pd.read_sql_query(query_select_all, conn)\n",
      "/var/folders/83/xbvjffh54yg4gpd1j3b8jsyc0000gq/T/ipykernel_28004/3837827248.py:4: UserWarning: pandas only supports SQLAlchemy connectable (engine/connection) or database string URI or sqlite3 DBAPI2 connection. Other DBAPI2 objects are not tested. Please consider using SQLAlchemy.\n",
      "  table_df = pd.read_sql_query(query_select_all, conn)\n",
      "/var/folders/83/xbvjffh54yg4gpd1j3b8jsyc0000gq/T/ipykernel_28004/3837827248.py:4: UserWarning: pandas only supports SQLAlchemy connectable (engine/connection) or database string URI or sqlite3 DBAPI2 connection. Other DBAPI2 objects are not tested. Please consider using SQLAlchemy.\n",
      "  table_df = pd.read_sql_query(query_select_all, conn)\n",
      "/var/folders/83/xbvjffh54yg4gpd1j3b8jsyc0000gq/T/ipykernel_28004/3837827248.py:4: UserWarning: pandas only supports SQLAlchemy connectable (engine/connection) or database string URI or sqlite3 DBAPI2 connection. Other DBAPI2 objects are not tested. Please consider using SQLAlchemy.\n",
      "  table_df = pd.read_sql_query(query_select_all, conn)\n",
      "/var/folders/83/xbvjffh54yg4gpd1j3b8jsyc0000gq/T/ipykernel_28004/3837827248.py:4: UserWarning: pandas only supports SQLAlchemy connectable (engine/connection) or database string URI or sqlite3 DBAPI2 connection. Other DBAPI2 objects are not tested. Please consider using SQLAlchemy.\n",
      "  table_df = pd.read_sql_query(query_select_all, conn)\n",
      "/var/folders/83/xbvjffh54yg4gpd1j3b8jsyc0000gq/T/ipykernel_28004/3837827248.py:4: UserWarning: pandas only supports SQLAlchemy connectable (engine/connection) or database string URI or sqlite3 DBAPI2 connection. Other DBAPI2 objects are not tested. Please consider using SQLAlchemy.\n",
      "  table_df = pd.read_sql_query(query_select_all, conn)\n",
      "/var/folders/83/xbvjffh54yg4gpd1j3b8jsyc0000gq/T/ipykernel_28004/3837827248.py:4: UserWarning: pandas only supports SQLAlchemy connectable (engine/connection) or database string URI or sqlite3 DBAPI2 connection. Other DBAPI2 objects are not tested. Please consider using SQLAlchemy.\n",
      "  table_df = pd.read_sql_query(query_select_all, conn)\n"
     ]
    }
   ],
   "source": [
    "# Export tables to CSV files\n",
    "for table in tables_df.iloc[:, 0]:\n",
    "    query_select_all = f\"SELECT * FROM {table}\"\n",
    "    table_df = pd.read_sql_query(query_select_all, conn)\n",
    "    csv_filename = f\"{table}.csv\"\n",
    "    table_df.to_csv(csv_filename, index=False)\n",
    "    time.sleep(10)\n",
    "    "
   ]
  }
 ],
 "metadata": {
  "kernelspec": {
   "display_name": "base",
   "language": "python",
   "name": "python3"
  },
  "language_info": {
   "codemirror_mode": {
    "name": "ipython",
    "version": 3
   },
   "file_extension": ".py",
   "mimetype": "text/x-python",
   "name": "python",
   "nbconvert_exporter": "python",
   "pygments_lexer": "ipython3",
   "version": "3.11.3"
  },
  "orig_nbformat": 4
 },
 "nbformat": 4,
 "nbformat_minor": 2
}
